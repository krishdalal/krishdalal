{
  "nbformat": 4,
  "nbformat_minor": 0,
  "metadata": {
    "colab": {
      "name": "Machine Learning Crash Course.ipynb",
      "provenance": [],
      "toc_visible": true,
      "authorship_tag": "ABX9TyOym+Ku4+wLfHUeJ55IqZ7e",
      "include_colab_link": true
    },
    "kernelspec": {
      "name": "python3",
      "display_name": "Python 3"
    },
    "language_info": {
      "name": "python"
    }
  },
  "cells": [
    {
      "cell_type": "markdown",
      "metadata": {
        "id": "view-in-github",
        "colab_type": "text"
      },
      "source": [
        "<a href=\"https://colab.research.google.com/github/krishdalal/krishdalal/blob/main/Machine_Learning_Crash_Course.ipynb\" target=\"_parent\"><img src=\"https://colab.research.google.com/assets/colab-badge.svg\" alt=\"Open In Colab\"/></a>"
      ]
    },
    {
      "cell_type": "markdown",
      "source": [
        "# Machine Learning Crash Course"
      ],
      "metadata": {
        "id": "wRTikbf5Z3D8"
      }
    },
    {
      "cell_type": "markdown",
      "source": [
        "Here, I will be making notes of the Machine Learning Crash Course by Google"
      ],
      "metadata": {
        "id": "5gwqkgASZ-eG"
      }
    },
    {
      "cell_type": "markdown",
      "source": [
        "## ML Concepts"
      ],
      "metadata": {
        "id": "8F_ni-KxaJW-"
      }
    },
    {
      "cell_type": "markdown",
      "source": [
        "### Framing"
      ],
      "metadata": {
        "id": "XaXlZiE70Sbb"
      }
    },
    {
      "cell_type": "markdown",
      "source": [
        "What is (Supervised) Machine Learning?\n",
        "ML systems learn how to combine input to produce useful predictions on never-before-seen data"
      ],
      "metadata": {
        "id": "gMckjFoV0bib"
      }
    },
    {
      "cell_type": "markdown",
      "source": [
        "Terminology\n",
        "*   **Label** is the variable we're predicting, typically represented by the variable **y**\n",
        "*   **Features** are input variables describing our data, typically represented by the variables {x1, x2, ..., xn}\n",
        "\n",
        "*   **Example** is a particular instance of data, **x**\n",
        "*   **Labeled example** has {features, label}: **(x, y)**\n",
        "  * Used to train the model\n",
        "*   Unlabeled example has {features, ?}: **(x, ?)**\n",
        "  *   Used for making predictions on new data\n",
        "\n",
        "\n",
        "\n",
        "\n",
        "\n"
      ],
      "metadata": {
        "id": "cDuQICH_1rD1"
      }
    },
    {
      "cell_type": "markdown",
      "source": [
        ""
      ],
      "metadata": {
        "id": "3jdniHON3XFI"
      }
    }
  ]
}